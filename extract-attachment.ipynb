{
 "cells": [
  {
   "cell_type": "markdown",
   "id": "6563f231-7bff-4c26-875d-0128b992ab87",
   "metadata": {
    "tags": []
   },
   "source": [
    "# Extract Email attachment "
   ]
  },
  {
   "cell_type": "code",
   "execution_count": null,
   "id": "a14c84a1-84d5-4851-9cb2-28804768915f",
   "metadata": {},
   "outputs": [],
   "source": [
    "import win32com.client\n",
    "import re\n",
    "import datetime as dt\n",
    "import os  #core python module\n",
    "from tqdm import tqdm\n"
   ]
  },
  {
   "cell_type": "code",
   "execution_count": null,
   "id": "2d3e7ab1-7481-429e-b9a7-afba804fb15b",
   "metadata": {},
   "outputs": [],
   "source": [
    "# set up connection to outlook\n",
    "outlook = win32com.client.Dispatch(\"Outlook.Application\").GetNamespace(\"MAPI\")\n",
    "\n",
    "inbox = outlook.GetDefaultFolder(6)\n",
    "\n",
    "messages = inbox.Items\n",
    "\n"
   ]
  },
  {
   "cell_type": "code",
   "execution_count": null,
   "id": "ff9f2747-e8fa-465a-a90a-ca6cd4a40014",
   "metadata": {
    "tags": []
   },
   "outputs": [],
   "source": [
    "## To get the registred email configured with  the outlook\n",
    "\n",
    "for account in outlook.Accounts: \n",
    "    \n",
    "    print(account.DeliveryStore.DisplayName)"
   ]
  },
  {
   "cell_type": "code",
   "execution_count": null,
   "id": "f0f8d3a2-76f4-4842-8c47-ca1cd3398f0f",
   "metadata": {
    "tags": []
   },
   "outputs": [],
   "source": [
    "# below code iterate over each email and download the attachement from the specified email subject and sender and save to the specific folder \n",
    "\n",
    "num_file=0\n",
    "\n",
    "path='directory path'   # Path where attachment to be saved\n",
    "\n",
    "for msg in tqdm(messages): # looping over each email\n",
    "    \n",
    "    try:\n",
    "        \n",
    "    \n",
    "        current_sender = msg.SenderName.lower() # Get the sender name\n",
    "        \n",
    "        current_subject = str(msg.Subject).lower() # get the subject of email\n",
    "        \n",
    "        if re.search('subject keyword',current_subject) != None and    re.search('sender name key word',current_sender) != None or re.search('sender name key word',current_sender)!=None : # loop over each email and get the mail send by dipu or pmpl \n",
    "            \n",
    "            if str(msg.Attachments.Item(1)).split('.')[1]=='xlsx': #  if the file format is (.xlsx)  than  \n",
    "            \n",
    "                file = msg.Attachments # access the attached file\n",
    "                \n",
    "                o_name = str(file.Item(1)).split('.') # get the file name \n",
    "                \n",
    "                file_name = f\"file_name_{str(msg.ReceivedTime).split(' ')[0]}.{o_name[1]}\" #  concatinate file_name  with recived date i.e( file_name_2022-07-15)\n",
    "                \n",
    "                print(file_name,current_sender)\n",
    "                \n",
    "                attch = file.Item(1)\n",
    "                \n",
    "                attch.SaveAsFile(path +'\\\\'+ file_name) # save file to given path\n",
    "                \n",
    "                num_file += 1  \n",
    "                \n",
    "                if num_file == 50: # run  iteration till  50 files is saved than break for loop\n",
    "                    break\n",
    "            \n",
    "    except:\n",
    "        \n",
    "        pass\n",
    "        \n",
    "       \n",
    "            \n",
    "        \n",
    "        \n",
    "    \n",
    "            \n",
    " \n"
   ]
  }
 ],
 "metadata": {
  "kernelspec": {
   "display_name": "Python 3 (ipykernel)",
   "language": "python",
   "name": "python3"
  },
  "language_info": {
   "codemirror_mode": {
    "name": "ipython",
    "version": 3
   },
   "file_extension": ".py",
   "mimetype": "text/x-python",
   "name": "python",
   "nbconvert_exporter": "python",
   "pygments_lexer": "ipython3",
   "version": "3.9.12"
  }
 },
 "nbformat": 4,
 "nbformat_minor": 5
}
