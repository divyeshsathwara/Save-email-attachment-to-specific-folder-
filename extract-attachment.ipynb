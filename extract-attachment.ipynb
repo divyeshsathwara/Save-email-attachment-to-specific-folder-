{
 "cells": [
  {
   "cell_type": "markdown",
   "id": "6563f231-7bff-4c26-875d-0128b992ab87",
   "metadata": {
    "tags": []
   },
   "source": [
    "# Extrect Email attachment "
   ]
  },
  {
   "cell_type": "code",
   "execution_count": 1,
   "id": "a14c84a1-84d5-4851-9cb2-28804768915f",
   "metadata": {},
   "outputs": [],
   "source": [
    "import win32com.client\n",
    "import re\n",
    "import datetime as dt\n",
    "import os  #core python module\n",
    "from tqdm import tqdm\n"
   ]
  },
  {
   "cell_type": "code",
   "execution_count": 2,
   "id": "2d3e7ab1-7481-429e-b9a7-afba804fb15b",
   "metadata": {},
   "outputs": [],
   "source": [
    "# set up connection to outlook\n",
    "outlook = win32com.client.Dispatch(\"Outlook.Application\").GetNamespace(\"MAPI\")\n",
    "inbox = outlook.GetDefaultFolder(6)\n",
    "messages = inbox.Items\n",
    "# msg=messages.GetFirst()\n"
   ]
  },
  {
   "cell_type": "code",
   "execution_count": 3,
   "id": "ff9f2747-e8fa-465a-a90a-ca6cd4a40014",
   "metadata": {},
   "outputs": [
    {
     "name": "stdout",
     "output_type": "stream",
     "text": [
      "divyesh.sathwara@tatapower.com\n"
     ]
    }
   ],
   "source": [
    "## To get the registred email configured with  the outlook\n",
    "for account in outlook.Accounts: \n",
    "    print(account.DeliveryStore.DisplayName)"
   ]
  },
  {
   "cell_type": "code",
   "execution_count": 6,
   "id": "f0f8d3a2-76f4-4842-8c47-ca1cd3398f0f",
   "metadata": {
    "collapsed": true,
    "jupyter": {
     "outputs_hidden": true
    },
    "tags": []
   },
   "outputs": [
    {
     "name": "stderr",
     "output_type": "stream",
     "text": [
      "  1%|▋                                                                              | 73/8889 [00:00<00:46, 187.98it/s]"
     ]
    },
    {
     "name": "stdout",
     "output_type": "stream",
     "text": [
      "ESP_report_2022-07-14.xlsx pmpl ash-opn\n"
     ]
    },
    {
     "name": "stderr",
     "output_type": "stream",
     "text": [
      "  2%|█▏                                                                            | 135/8889 [00:01<01:15, 115.25it/s]"
     ]
    },
    {
     "name": "stdout",
     "output_type": "stream",
     "text": [
      "ESP_report_2022-07-13.xlsx pmpl ash-opn\n"
     ]
    },
    {
     "name": "stderr",
     "output_type": "stream",
     "text": [
      "  2%|█▍                                                                            | 167/8889 [00:01<01:21, 106.86it/s]"
     ]
    },
    {
     "name": "stdout",
     "output_type": "stream",
     "text": [
      "ESP_report_2022-07-12.xlsx pmpl ash-opn\n"
     ]
    },
    {
     "name": "stderr",
     "output_type": "stream",
     "text": [
      "  2%|█▋                                                                             | 193/8889 [00:01<01:28, 98.63it/s]"
     ]
    },
    {
     "name": "stdout",
     "output_type": "stream",
     "text": [
      "ESP_report_2022-07-11.xlsx pmpl ash-opn\n",
      "ESP_report_2022-07-15.xlsx pmpl ash-opn\n"
     ]
    },
    {
     "name": "stderr",
     "output_type": "stream",
     "text": [
      "  3%|██▎                                                                           | 263/8889 [00:02<01:19, 109.00it/s]"
     ]
    },
    {
     "name": "stdout",
     "output_type": "stream",
     "text": [
      "ESP_report_2022-07-10.xlsx dipu gosvami\n",
      "ESP_report_2022-07-10.xlsx dipu gosvami\n"
     ]
    },
    {
     "name": "stderr",
     "output_type": "stream",
     "text": [
      "  3%|██▌                                                                            | 291/8889 [00:02<01:43, 83.32it/s]"
     ]
    },
    {
     "name": "stdout",
     "output_type": "stream",
     "text": [
      "ESP_report_2022-07-09.xlsx pmpl ash-opn\n"
     ]
    },
    {
     "name": "stderr",
     "output_type": "stream",
     "text": [
      "  3%|██▋                                                                            | 303/8889 [00:02<01:55, 74.18it/s]"
     ]
    },
    {
     "name": "stdout",
     "output_type": "stream",
     "text": [
      "ESP_report_2022-07-08.xlsx pmpl ash-opn\n"
     ]
    },
    {
     "name": "stderr",
     "output_type": "stream",
     "text": [
      "  4%|██▉                                                                           | 334/8889 [00:03<01:23, 102.07it/s]"
     ]
    },
    {
     "name": "stdout",
     "output_type": "stream",
     "text": [
      "ESP_report_2022-07-07.xlsx pmpl ash-opn\n"
     ]
    },
    {
     "name": "stderr",
     "output_type": "stream",
     "text": [
      "  4%|███▎                                                                           | 372/8889 [00:04<03:23, 41.87it/s]"
     ]
    },
    {
     "name": "stdout",
     "output_type": "stream",
     "text": [
      "ESP_report_2022-07-06.xlsx pmpl ash-opn\n"
     ]
    },
    {
     "name": "stderr",
     "output_type": "stream",
     "text": [
      "  5%|███▌                                                                           | 406/8889 [00:04<02:46, 51.00it/s]"
     ]
    },
    {
     "name": "stdout",
     "output_type": "stream",
     "text": [
      "ESP_report_2022-07-05.xlsx pmpl ash-opn\n"
     ]
    },
    {
     "name": "stderr",
     "output_type": "stream",
     "text": [
      "  5%|███▊                                                                           | 432/8889 [00:05<04:29, 31.41it/s]"
     ]
    },
    {
     "name": "stdout",
     "output_type": "stream",
     "text": [
      "ESP_report_2022-07-04.xlsx pmpl ash-opn\n"
     ]
    },
    {
     "name": "stderr",
     "output_type": "stream",
     "text": [
      "  5%|████▏                                                                          | 478/8889 [00:06<04:54, 28.61it/s]"
     ]
    },
    {
     "name": "stdout",
     "output_type": "stream",
     "text": [
      "ESP_report_2022-07-02.xlsx pmpl ash-opn\n"
     ]
    },
    {
     "name": "stderr",
     "output_type": "stream",
     "text": [
      "  6%|████▍                                                                          | 497/8889 [00:07<03:42, 37.67it/s]"
     ]
    },
    {
     "name": "stdout",
     "output_type": "stream",
     "text": [
      "ESP_report_2022-07-01.xlsx dipu gosvami\n"
     ]
    },
    {
     "name": "stderr",
     "output_type": "stream",
     "text": [
      "  6%|████▊                                                                          | 544/8889 [00:07<01:37, 85.81it/s]"
     ]
    },
    {
     "name": "stdout",
     "output_type": "stream",
     "text": [
      "ESP_report_2022-06-30.xlsx pmpl ash-opn\n"
     ]
    },
    {
     "name": "stderr",
     "output_type": "stream",
     "text": [
      "  6%|████▉                                                                          | 554/8889 [00:07<01:40, 82.99it/s]"
     ]
    },
    {
     "name": "stdout",
     "output_type": "stream",
     "text": [
      "ESP_report_2022-06-29.xlsx pmpl ash-opn\n"
     ]
    },
    {
     "name": "stderr",
     "output_type": "stream",
     "text": [
      "  7%|█████▎                                                                         | 598/8889 [00:08<01:52, 73.85it/s]"
     ]
    },
    {
     "name": "stdout",
     "output_type": "stream",
     "text": [
      "ESP_report_2022-06-28.xlsx pmpl ash-opn\n"
     ]
    },
    {
     "name": "stderr",
     "output_type": "stream",
     "text": [
      "  7%|█████▌                                                                         | 625/8889 [00:09<02:53, 47.58it/s]"
     ]
    },
    {
     "name": "stdout",
     "output_type": "stream",
     "text": [
      "ESP_report_2022-06-27.xlsx pmpl ash-opn\n"
     ]
    },
    {
     "name": "stderr",
     "output_type": "stream",
     "text": [
      "  7%|█████▊                                                                         | 654/8889 [00:09<02:07, 64.68it/s]"
     ]
    },
    {
     "name": "stdout",
     "output_type": "stream",
     "text": [
      "ESP_report_2022-06-25.xlsx pmpl ash-opn\n"
     ]
    },
    {
     "name": "stderr",
     "output_type": "stream",
     "text": [
      "  8%|█████▉                                                                         | 669/8889 [00:10<03:15, 42.09it/s]"
     ]
    },
    {
     "name": "stdout",
     "output_type": "stream",
     "text": [
      "ESP_report_2022-06-24.xlsx pmpl ash-opn\n"
     ]
    },
    {
     "name": "stderr",
     "output_type": "stream",
     "text": [
      "  8%|██████▍                                                                        | 725/8889 [00:10<01:44, 78.10it/s]"
     ]
    },
    {
     "name": "stdout",
     "output_type": "stream",
     "text": [
      "ESP_report_2022-06-22.xlsx pmpl ash-opn\n"
     ]
    },
    {
     "name": "stderr",
     "output_type": "stream",
     "text": [
      "  8%|██████▌                                                                        | 744/8889 [00:11<02:18, 58.97it/s]"
     ]
    },
    {
     "name": "stdout",
     "output_type": "stream",
     "text": [
      "ESP_report_2022-06-21.xlsx pmpl ash-opn\n"
     ]
    },
    {
     "name": "stderr",
     "output_type": "stream",
     "text": [
      "  9%|██████▊                                                                        | 771/8889 [00:11<01:52, 72.48it/s]"
     ]
    },
    {
     "name": "stdout",
     "output_type": "stream",
     "text": [
      "ESP_report_2022-06-20.xlsx pmpl ash-opn\n"
     ]
    },
    {
     "name": "stderr",
     "output_type": "stream",
     "text": [
      "  9%|███████▎                                                                       | 824/8889 [00:11<01:24, 95.80it/s]"
     ]
    },
    {
     "name": "stdout",
     "output_type": "stream",
     "text": [
      "ESP_report_2022-06-18.xlsx pmpl ash-opn\n"
     ]
    },
    {
     "name": "stderr",
     "output_type": "stream",
     "text": [
      " 10%|███████▌                                                                       | 850/8889 [00:12<01:35, 84.22it/s]"
     ]
    },
    {
     "name": "stdout",
     "output_type": "stream",
     "text": [
      "ESP_report_2022-06-17.xlsx pmpl ash-opn\n"
     ]
    },
    {
     "name": "stderr",
     "output_type": "stream",
     "text": [
      " 10%|████████                                                                       | 909/8889 [00:13<03:51, 34.43it/s]"
     ]
    },
    {
     "name": "stdout",
     "output_type": "stream",
     "text": [
      "ESP_report_2022-06-16.xlsx pmpl ash-opn\n"
     ]
    },
    {
     "name": "stderr",
     "output_type": "stream",
     "text": [
      " 11%|████████▎                                                                      | 940/8889 [00:14<02:11, 60.60it/s]"
     ]
    },
    {
     "name": "stdout",
     "output_type": "stream",
     "text": [
      "ESP_report_2022-06-15.xlsx pmpl ash-opn\n"
     ]
    },
    {
     "name": "stderr",
     "output_type": "stream",
     "text": [
      " 11%|████████▌                                                                      | 966/8889 [00:14<01:47, 73.54it/s]"
     ]
    },
    {
     "name": "stdout",
     "output_type": "stream",
     "text": [
      "ESP_report_2022-06-14.xlsx pmpl ash-opn\n"
     ]
    },
    {
     "name": "stderr",
     "output_type": "stream",
     "text": [
      " 12%|█████████                                                                     | 1030/8889 [00:15<02:56, 44.52it/s]"
     ]
    },
    {
     "name": "stdout",
     "output_type": "stream",
     "text": [
      "ESP_report_2022-06-11.xlsx pmpl ash-opn\n"
     ]
    },
    {
     "name": "stderr",
     "output_type": "stream",
     "text": [
      " 12%|█████████▏                                                                    | 1054/8889 [00:16<02:34, 50.87it/s]"
     ]
    },
    {
     "name": "stdout",
     "output_type": "stream",
     "text": [
      "ESP_report_2022-06-10.xlsx pmpl ash-opn\n"
     ]
    },
    {
     "name": "stderr",
     "output_type": "stream",
     "text": [
      " 12%|█████████▌                                                                    | 1091/8889 [00:16<01:27, 89.46it/s]"
     ]
    },
    {
     "name": "stdout",
     "output_type": "stream",
     "text": [
      "ESP_report_2022-06-09.xlsx pmpl ash-opn\n",
      "ESP_report_2022-06-08.xlsx pmpl ash-opn\n"
     ]
    },
    {
     "name": "stderr",
     "output_type": "stream",
     "text": [
      " 13%|██████████                                                                    | 1141/8889 [00:17<01:20, 96.64it/s]"
     ]
    },
    {
     "name": "stdout",
     "output_type": "stream",
     "text": [
      "ESP_report_2022-06-06.xlsx pmpl ash-opn\n"
     ]
    },
    {
     "name": "stderr",
     "output_type": "stream",
     "text": [
      " 13%|██████████▎                                                                  | 1185/8889 [00:17<01:09, 110.98it/s]"
     ]
    },
    {
     "name": "stdout",
     "output_type": "stream",
     "text": [
      "ESP_report_2022-06-04.xlsx pmpl ash-opn\n"
     ]
    },
    {
     "name": "stderr",
     "output_type": "stream",
     "text": [
      " 13%|██████████▌                                                                   | 1197/8889 [00:17<01:21, 94.73it/s]"
     ]
    },
    {
     "name": "stdout",
     "output_type": "stream",
     "text": [
      "ESP_report_2022-06-03.xlsx pmpl ash-opn\n"
     ]
    },
    {
     "name": "stderr",
     "output_type": "stream",
     "text": [
      " 14%|██████████▊                                                                   | 1235/8889 [00:17<01:22, 92.81it/s]"
     ]
    },
    {
     "name": "stdout",
     "output_type": "stream",
     "text": [
      "ESP_report_2022-06-02.xlsx pmpl ash-opn\n"
     ]
    },
    {
     "name": "stderr",
     "output_type": "stream",
     "text": [
      " 14%|███████████                                                                   | 1266/8889 [00:18<01:31, 83.57it/s]"
     ]
    },
    {
     "name": "stdout",
     "output_type": "stream",
     "text": [
      "ESP_report_2022-06-01.xlsx pmpl ash-opn\n"
     ]
    },
    {
     "name": "stderr",
     "output_type": "stream",
     "text": [
      " 15%|███████████▌                                                                  | 1313/8889 [00:19<02:57, 42.74it/s]"
     ]
    },
    {
     "name": "stdout",
     "output_type": "stream",
     "text": [
      "ESP_report_2022-05-31.xlsx pmpl ash-opn\n"
     ]
    },
    {
     "name": "stderr",
     "output_type": "stream",
     "text": [
      " 15%|███████████▋                                                                  | 1333/8889 [00:19<03:44, 33.61it/s]"
     ]
    },
    {
     "name": "stdout",
     "output_type": "stream",
     "text": [
      "ESP_report_2022-05-30.xlsx pmpl ash-opn\n"
     ]
    },
    {
     "name": "stderr",
     "output_type": "stream",
     "text": [
      " 16%|████████████                                                                  | 1381/8889 [00:21<04:00, 31.22it/s]"
     ]
    },
    {
     "name": "stdout",
     "output_type": "stream",
     "text": [
      "ESP_report_2022-05-28.xlsx pmpl ash-opn\n"
     ]
    },
    {
     "name": "stderr",
     "output_type": "stream",
     "text": [
      " 16%|████████████▍                                                                 | 1411/8889 [00:21<02:32, 48.94it/s]"
     ]
    },
    {
     "name": "stdout",
     "output_type": "stream",
     "text": [
      "ESP_report_2022-05-27.xlsx pmpl ash-opn\n"
     ]
    },
    {
     "name": "stderr",
     "output_type": "stream",
     "text": [
      " 16%|████████████▋                                                                 | 1451/8889 [00:22<01:32, 80.41it/s]"
     ]
    },
    {
     "name": "stdout",
     "output_type": "stream",
     "text": [
      "ESP_report_2022-05-26.xlsx pmpl ash-opn\n"
     ]
    },
    {
     "name": "stderr",
     "output_type": "stream",
     "text": [
      " 17%|████████████▉                                                                 | 1474/8889 [00:22<01:33, 79.14it/s]"
     ]
    },
    {
     "name": "stdout",
     "output_type": "stream",
     "text": [
      "ESP_report_2022-05-25.xlsx pmpl ash-opn\n"
     ]
    },
    {
     "name": "stderr",
     "output_type": "stream",
     "text": [
      " 17%|█████████████                                                                 | 1491/8889 [00:22<01:14, 99.55it/s]"
     ]
    },
    {
     "name": "stdout",
     "output_type": "stream",
     "text": [
      "ESP_report_2022-05-24.xlsx pmpl ash-opn\n"
     ]
    },
    {
     "name": "stderr",
     "output_type": "stream",
     "text": [
      " 17%|█████████████▌                                                                | 1539/8889 [00:23<01:28, 83.20it/s]"
     ]
    },
    {
     "name": "stdout",
     "output_type": "stream",
     "text": [
      "ESP_report_2022-05-23.xlsx pmpl ash-opn\n"
     ]
    },
    {
     "name": "stderr",
     "output_type": "stream",
     "text": [
      " 18%|█████████████▋                                                                | 1558/8889 [00:23<01:28, 82.53it/s]"
     ]
    },
    {
     "name": "stdout",
     "output_type": "stream",
     "text": [
      "ESP_report_2022-05-21.xlsx pmpl ash-opn\n"
     ]
    },
    {
     "name": "stderr",
     "output_type": "stream",
     "text": [
      " 18%|█████████████▉                                                                | 1588/8889 [00:24<03:16, 37.15it/s]"
     ]
    },
    {
     "name": "stdout",
     "output_type": "stream",
     "text": [
      "ESP_report_2022-05-20.xlsx pmpl ash-opn\n"
     ]
    },
    {
     "name": "stderr",
     "output_type": "stream",
     "text": [
      " 18%|██████████████▏                                                               | 1617/8889 [00:24<03:13, 37.57it/s]"
     ]
    },
    {
     "name": "stdout",
     "output_type": "stream",
     "text": [
      "ESP_report_2022-05-19.xlsx pmpl ash-opn\n"
     ]
    },
    {
     "name": "stderr",
     "output_type": "stream",
     "text": [
      " 18%|██████████████▎                                                               | 1636/8889 [00:25<01:51, 64.96it/s]"
     ]
    },
    {
     "name": "stdout",
     "output_type": "stream",
     "text": [
      "ESP_report_2022-05-18.xlsx pmpl ash-opn\n"
     ]
    },
    {
     "name": "stderr",
     "output_type": "stream",
     "text": [
      "\n"
     ]
    }
   ],
   "source": [
    "\n",
    "num_file=0\n",
    "path='D:\\\\Data Science\\\\Email_attachment\\\\new_folder'   # Path where attachment to be saved\n",
    "\n",
    "for msg in tqdm(messages):\n",
    "    try:\n",
    "        \n",
    "    \n",
    "        current_sender = msg.SenderName.lower() # Get the sender name\n",
    "        current_subject = str(msg.Subject).lower() # get the subject of email\n",
    "        if re.search('esp',current_subject) != None and    re.search('dipu',current_sender) != None or re.search('pmpl',current_sender)!=None : # loop over each email and get the mail send by dipu or pmpl \n",
    "            if str(msg.Attachments.Item(1)).split('.')[1]=='xlsx': # check if the file is excelsheet  or not \n",
    "            \n",
    "                \n",
    "                file=msg.Attachments # access the attached file\n",
    "                o_name=str(file.Item(1)).split('.') # get the file name \n",
    "                file_name=f\"ESP_report_{str(msg.ReceivedTime).split(' ')[0]}.{o_name[1]}\" # change the file name to concatinate file \n",
    "                print(file_name,current_sender)\n",
    "                attch=file.Item(1)\n",
    "                attch.SaveAsFile(path +'\\\\'+ file_name) # save file to mentioned path\n",
    "                num_file+=1\n",
    "                if num_file==50:\n",
    "                    break\n",
    "            \n",
    "    except:\n",
    "        \n",
    "        pass\n",
    "        \n",
    "       \n",
    "            \n",
    "        \n",
    "        \n",
    "    \n",
    "            \n",
    " \n"
   ]
  }
 ],
 "metadata": {
  "kernelspec": {
   "display_name": "Python 3 (ipykernel)",
   "language": "python",
   "name": "python3"
  },
  "language_info": {
   "codemirror_mode": {
    "name": "ipython",
    "version": 3
   },
   "file_extension": ".py",
   "mimetype": "text/x-python",
   "name": "python",
   "nbconvert_exporter": "python",
   "pygments_lexer": "ipython3",
   "version": "3.9.12"
  }
 },
 "nbformat": 4,
 "nbformat_minor": 5
}
